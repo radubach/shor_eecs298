{
  "nbformat": 4,
  "nbformat_minor": 0,
  "metadata": {
    "colab": {
      "provenance": []
    },
    "kernelspec": {
      "name": "python3",
      "display_name": "Python 3"
    },
    "language_info": {
      "name": "python"
    }
  },
  "cells": [
    {
      "cell_type": "markdown",
      "source": [
        "# Shor's Algorithm to factor N > 15\n",
        "* In this notebook we expand on previous work to factor N = 15 with Shor's algorithm\n",
        "* We see how high we can go with a simple implementatino of Shor on Simulated Ideal Hardware"
      ],
      "metadata": {
        "id": "U2n7NQlUDsHk"
      }
    },
    {
      "cell_type": "code",
      "execution_count": 1,
      "metadata": {
        "collapsed": true,
        "id": "CmtFrjYotQuf",
        "colab": {
          "base_uri": "https://localhost:8080/"
        },
        "outputId": "79a6ccd8-6c5f-4329-88a5-4a49e1c72e0d"
      },
      "outputs": [
        {
          "output_type": "stream",
          "name": "stdout",
          "text": [
            "Cloning into 'shor_eecs298'...\n",
            "remote: Enumerating objects: 16, done.\u001b[K\n",
            "remote: Counting objects: 100% (16/16), done.\u001b[K\n",
            "remote: Compressing objects: 100% (12/12), done.\u001b[K\n",
            "remote: Total 16 (delta 1), reused 10 (delta 1), pack-reused 0 (from 0)\u001b[K\n",
            "Receiving objects: 100% (16/16), 1.80 MiB | 8.71 MiB/s, done.\n",
            "Resolving deltas: 100% (1/1), done.\n",
            "/content/shor_eecs298\n"
          ]
        }
      ],
      "source": [
        "import shutil\n",
        "import os\n",
        "\n",
        "# Remove the existing directory if it exists\n",
        "# useful during development when testing updates\n",
        "if os.path.exists('shor_eecs298'):\n",
        "    shutil.rmtree('shor_eecs298')\n",
        "\n",
        "# Clone repo\n",
        "!git clone https://github.com/radubach/shor_eecs298.git --depth 1\n",
        "%cd shor_eecs298\n",
        "import sys\n",
        "sys.path.append('./src')"
      ]
    },
    {
      "cell_type": "code",
      "source": [
        "!pip install -r requirements.txt"
      ],
      "metadata": {
        "colab": {
          "base_uri": "https://localhost:8080/"
        },
        "id": "W4eY7ZQOtuxp",
        "outputId": "d2ca91cb-16a5-4348-8aa2-e99766d7d59e",
        "collapsed": true
      },
      "execution_count": 2,
      "outputs": [
        {
          "output_type": "stream",
          "name": "stdout",
          "text": [
            "Requirement already satisfied: matplotlib in /usr/local/lib/python3.11/dist-packages (from -r requirements.txt (line 1)) (3.10.0)\n",
            "Requirement already satisfied: numpy in /usr/local/lib/python3.11/dist-packages (from -r requirements.txt (line 2)) (2.0.2)\n",
            "Requirement already satisfied: pandas in /usr/local/lib/python3.11/dist-packages (from -r requirements.txt (line 3)) (2.2.2)\n",
            "Collecting qiskit (from -r requirements.txt (line 4))\n",
            "  Downloading qiskit-2.0.2-cp39-abi3-manylinux_2_17_x86_64.manylinux2014_x86_64.whl.metadata (12 kB)\n",
            "Collecting qiskit_aer (from -r requirements.txt (line 5))\n",
            "  Downloading qiskit_aer-0.17.1-cp311-cp311-manylinux_2_17_x86_64.manylinux2014_x86_64.whl.metadata (8.3 kB)\n",
            "Requirement already satisfied: IPython in /usr/local/lib/python3.11/dist-packages (from -r requirements.txt (line 6)) (7.34.0)\n",
            "Requirement already satisfied: scipy in /usr/local/lib/python3.11/dist-packages (from -r requirements.txt (line 7)) (1.15.3)\n",
            "Collecting pylatexenc (from -r requirements.txt (line 8))\n",
            "  Downloading pylatexenc-2.10.tar.gz (162 kB)\n",
            "\u001b[2K     \u001b[90m━━━━━━━━━━━━━━━━━━━━━━━━━━━━━━━━━━━━━━━\u001b[0m \u001b[32m162.6/162.6 kB\u001b[0m \u001b[31m3.1 MB/s\u001b[0m eta \u001b[36m0:00:00\u001b[0m\n",
            "\u001b[?25h  Preparing metadata (setup.py) ... \u001b[?25l\u001b[?25hdone\n",
            "Requirement already satisfied: ipykernel in /usr/local/lib/python3.11/dist-packages (from -r requirements.txt (line 9)) (6.17.1)\n",
            "Requirement already satisfied: contourpy>=1.0.1 in /usr/local/lib/python3.11/dist-packages (from matplotlib->-r requirements.txt (line 1)) (1.3.2)\n",
            "Requirement already satisfied: cycler>=0.10 in /usr/local/lib/python3.11/dist-packages (from matplotlib->-r requirements.txt (line 1)) (0.12.1)\n",
            "Requirement already satisfied: fonttools>=4.22.0 in /usr/local/lib/python3.11/dist-packages (from matplotlib->-r requirements.txt (line 1)) (4.58.1)\n",
            "Requirement already satisfied: kiwisolver>=1.3.1 in /usr/local/lib/python3.11/dist-packages (from matplotlib->-r requirements.txt (line 1)) (1.4.8)\n",
            "Requirement already satisfied: packaging>=20.0 in /usr/local/lib/python3.11/dist-packages (from matplotlib->-r requirements.txt (line 1)) (24.2)\n",
            "Requirement already satisfied: pillow>=8 in /usr/local/lib/python3.11/dist-packages (from matplotlib->-r requirements.txt (line 1)) (11.2.1)\n",
            "Requirement already satisfied: pyparsing>=2.3.1 in /usr/local/lib/python3.11/dist-packages (from matplotlib->-r requirements.txt (line 1)) (3.2.3)\n",
            "Requirement already satisfied: python-dateutil>=2.7 in /usr/local/lib/python3.11/dist-packages (from matplotlib->-r requirements.txt (line 1)) (2.9.0.post0)\n",
            "Requirement already satisfied: pytz>=2020.1 in /usr/local/lib/python3.11/dist-packages (from pandas->-r requirements.txt (line 3)) (2025.2)\n",
            "Requirement already satisfied: tzdata>=2022.7 in /usr/local/lib/python3.11/dist-packages (from pandas->-r requirements.txt (line 3)) (2025.2)\n",
            "Collecting rustworkx>=0.15.0 (from qiskit->-r requirements.txt (line 4))\n",
            "  Downloading rustworkx-0.16.0-cp39-abi3-manylinux_2_17_x86_64.manylinux2014_x86_64.whl.metadata (10 kB)\n",
            "Requirement already satisfied: sympy>=1.3 in /usr/local/lib/python3.11/dist-packages (from qiskit->-r requirements.txt (line 4)) (1.13.1)\n",
            "Requirement already satisfied: dill>=0.3 in /usr/local/lib/python3.11/dist-packages (from qiskit->-r requirements.txt (line 4)) (0.3.7)\n",
            "Collecting stevedore>=3.0.0 (from qiskit->-r requirements.txt (line 4))\n",
            "  Downloading stevedore-5.4.1-py3-none-any.whl.metadata (2.3 kB)\n",
            "Requirement already satisfied: typing-extensions in /usr/local/lib/python3.11/dist-packages (from qiskit->-r requirements.txt (line 4)) (4.13.2)\n",
            "Collecting symengine<0.14,>=0.11 (from qiskit->-r requirements.txt (line 4))\n",
            "  Downloading symengine-0.13.0-cp311-cp311-manylinux_2_17_x86_64.manylinux2014_x86_64.whl.metadata (1.2 kB)\n",
            "Requirement already satisfied: psutil>=5 in /usr/local/lib/python3.11/dist-packages (from qiskit_aer->-r requirements.txt (line 5)) (5.9.5)\n",
            "Requirement already satisfied: setuptools>=18.5 in /usr/local/lib/python3.11/dist-packages (from IPython->-r requirements.txt (line 6)) (75.2.0)\n",
            "Collecting jedi>=0.16 (from IPython->-r requirements.txt (line 6))\n",
            "  Downloading jedi-0.19.2-py2.py3-none-any.whl.metadata (22 kB)\n",
            "Requirement already satisfied: decorator in /usr/local/lib/python3.11/dist-packages (from IPython->-r requirements.txt (line 6)) (4.4.2)\n",
            "Requirement already satisfied: pickleshare in /usr/local/lib/python3.11/dist-packages (from IPython->-r requirements.txt (line 6)) (0.7.5)\n",
            "Requirement already satisfied: traitlets>=4.2 in /usr/local/lib/python3.11/dist-packages (from IPython->-r requirements.txt (line 6)) (5.7.1)\n",
            "Requirement already satisfied: prompt-toolkit!=3.0.0,!=3.0.1,<3.1.0,>=2.0.0 in /usr/local/lib/python3.11/dist-packages (from IPython->-r requirements.txt (line 6)) (3.0.51)\n",
            "Requirement already satisfied: pygments in /usr/local/lib/python3.11/dist-packages (from IPython->-r requirements.txt (line 6)) (2.19.1)\n",
            "Requirement already satisfied: backcall in /usr/local/lib/python3.11/dist-packages (from IPython->-r requirements.txt (line 6)) (0.2.0)\n",
            "Requirement already satisfied: matplotlib-inline in /usr/local/lib/python3.11/dist-packages (from IPython->-r requirements.txt (line 6)) (0.1.7)\n",
            "Requirement already satisfied: pexpect>4.3 in /usr/local/lib/python3.11/dist-packages (from IPython->-r requirements.txt (line 6)) (4.9.0)\n",
            "Requirement already satisfied: debugpy>=1.0 in /usr/local/lib/python3.11/dist-packages (from ipykernel->-r requirements.txt (line 9)) (1.8.0)\n",
            "Requirement already satisfied: jupyter-client>=6.1.12 in /usr/local/lib/python3.11/dist-packages (from ipykernel->-r requirements.txt (line 9)) (6.1.12)\n",
            "Requirement already satisfied: nest-asyncio in /usr/local/lib/python3.11/dist-packages (from ipykernel->-r requirements.txt (line 9)) (1.6.0)\n",
            "Requirement already satisfied: pyzmq>=17 in /usr/local/lib/python3.11/dist-packages (from ipykernel->-r requirements.txt (line 9)) (24.0.1)\n",
            "Requirement already satisfied: tornado>=6.1 in /usr/local/lib/python3.11/dist-packages (from ipykernel->-r requirements.txt (line 9)) (6.4.2)\n",
            "Requirement already satisfied: parso<0.9.0,>=0.8.4 in /usr/local/lib/python3.11/dist-packages (from jedi>=0.16->IPython->-r requirements.txt (line 6)) (0.8.4)\n",
            "Requirement already satisfied: jupyter-core>=4.6.0 in /usr/local/lib/python3.11/dist-packages (from jupyter-client>=6.1.12->ipykernel->-r requirements.txt (line 9)) (5.8.1)\n",
            "Requirement already satisfied: ptyprocess>=0.5 in /usr/local/lib/python3.11/dist-packages (from pexpect>4.3->IPython->-r requirements.txt (line 6)) (0.7.0)\n",
            "Requirement already satisfied: wcwidth in /usr/local/lib/python3.11/dist-packages (from prompt-toolkit!=3.0.0,!=3.0.1,<3.1.0,>=2.0.0->IPython->-r requirements.txt (line 6)) (0.2.13)\n",
            "Requirement already satisfied: six>=1.5 in /usr/local/lib/python3.11/dist-packages (from python-dateutil>=2.7->matplotlib->-r requirements.txt (line 1)) (1.17.0)\n",
            "Collecting pbr>=2.0.0 (from stevedore>=3.0.0->qiskit->-r requirements.txt (line 4))\n",
            "  Downloading pbr-6.1.1-py2.py3-none-any.whl.metadata (3.4 kB)\n",
            "Requirement already satisfied: mpmath<1.4,>=1.1.0 in /usr/local/lib/python3.11/dist-packages (from sympy>=1.3->qiskit->-r requirements.txt (line 4)) (1.3.0)\n",
            "Requirement already satisfied: platformdirs>=2.5 in /usr/local/lib/python3.11/dist-packages (from jupyter-core>=4.6.0->jupyter-client>=6.1.12->ipykernel->-r requirements.txt (line 9)) (4.3.8)\n",
            "Downloading qiskit-2.0.2-cp39-abi3-manylinux_2_17_x86_64.manylinux2014_x86_64.whl (6.5 MB)\n",
            "\u001b[2K   \u001b[90m━━━━━━━━━━━━━━━━━━━━━━━━━━━━━━━━━━━━━━━━\u001b[0m \u001b[32m6.5/6.5 MB\u001b[0m \u001b[31m54.9 MB/s\u001b[0m eta \u001b[36m0:00:00\u001b[0m\n",
            "\u001b[?25hDownloading qiskit_aer-0.17.1-cp311-cp311-manylinux_2_17_x86_64.manylinux2014_x86_64.whl (12.4 MB)\n",
            "\u001b[2K   \u001b[90m━━━━━━━━━━━━━━━━━━━━━━━━━━━━━━━━━━━━━━━━\u001b[0m \u001b[32m12.4/12.4 MB\u001b[0m \u001b[31m51.3 MB/s\u001b[0m eta \u001b[36m0:00:00\u001b[0m\n",
            "\u001b[?25hDownloading jedi-0.19.2-py2.py3-none-any.whl (1.6 MB)\n",
            "\u001b[2K   \u001b[90m━━━━━━━━━━━━━━━━━━━━━━━━━━━━━━━━━━━━━━━━\u001b[0m \u001b[32m1.6/1.6 MB\u001b[0m \u001b[31m48.8 MB/s\u001b[0m eta \u001b[36m0:00:00\u001b[0m\n",
            "\u001b[?25hDownloading rustworkx-0.16.0-cp39-abi3-manylinux_2_17_x86_64.manylinux2014_x86_64.whl (2.1 MB)\n",
            "\u001b[2K   \u001b[90m━━━━━━━━━━━━━━━━━━━━━━━━━━━━━━━━━━━━━━━━\u001b[0m \u001b[32m2.1/2.1 MB\u001b[0m \u001b[31m48.5 MB/s\u001b[0m eta \u001b[36m0:00:00\u001b[0m\n",
            "\u001b[?25hDownloading stevedore-5.4.1-py3-none-any.whl (49 kB)\n",
            "\u001b[2K   \u001b[90m━━━━━━━━━━━━━━━━━━━━━━━━━━━━━━━━━━━━━━━━\u001b[0m \u001b[32m49.5/49.5 kB\u001b[0m \u001b[31m3.0 MB/s\u001b[0m eta \u001b[36m0:00:00\u001b[0m\n",
            "\u001b[?25hDownloading symengine-0.13.0-cp311-cp311-manylinux_2_17_x86_64.manylinux2014_x86_64.whl (49.7 MB)\n",
            "\u001b[2K   \u001b[90m━━━━━━━━━━━━━━━━━━━━━━━━━━━━━━━━━━━━━━━━\u001b[0m \u001b[32m49.7/49.7 MB\u001b[0m \u001b[31m12.7 MB/s\u001b[0m eta \u001b[36m0:00:00\u001b[0m\n",
            "\u001b[?25hDownloading pbr-6.1.1-py2.py3-none-any.whl (108 kB)\n",
            "\u001b[2K   \u001b[90m━━━━━━━━━━━━━━━━━━━━━━━━━━━━━━━━━━━━━━━━\u001b[0m \u001b[32m109.0/109.0 kB\u001b[0m \u001b[31m6.4 MB/s\u001b[0m eta \u001b[36m0:00:00\u001b[0m\n",
            "\u001b[?25hBuilding wheels for collected packages: pylatexenc\n",
            "  Building wheel for pylatexenc (setup.py) ... \u001b[?25l\u001b[?25hdone\n",
            "  Created wheel for pylatexenc: filename=pylatexenc-2.10-py3-none-any.whl size=136817 sha256=41e7ecb23000b0b2c6594ca15fcb1fc0e644a43b6d1d9037d4a0229f173ea77c\n",
            "  Stored in directory: /root/.cache/pip/wheels/b1/7a/33/9fdd892f784ed4afda62b685ae3703adf4c91aa0f524c28f03\n",
            "Successfully built pylatexenc\n",
            "Installing collected packages: pylatexenc, symengine, rustworkx, pbr, jedi, stevedore, qiskit, qiskit_aer\n",
            "Successfully installed jedi-0.19.2 pbr-6.1.1 pylatexenc-2.10 qiskit-2.0.2 qiskit_aer-0.17.1 rustworkx-0.16.0 stevedore-5.4.1 symengine-0.13.0\n"
          ]
        }
      ]
    },
    {
      "cell_type": "code",
      "source": [
        "import pandas as pd\n",
        "import matplotlib.pyplot as plt\n",
        "\n",
        "from utils import find_factors_shor, combine_results"
      ],
      "metadata": {
        "id": "mqKQVqkWt2-j"
      },
      "execution_count": 3,
      "outputs": []
    },
    {
      "cell_type": "markdown",
      "source": [
        "#Factor N in [15, 21, 33, 35, 39, 51, 55, 57, 85, 91, 93, 95, 111]"
      ],
      "metadata": {
        "id": "sYPGZTJoEiG1"
      }
    },
    {
      "cell_type": "code",
      "source": [
        "results15 = find_factors_shor(15)"
      ],
      "metadata": {
        "colab": {
          "base_uri": "https://localhost:8080/"
        },
        "id": "1zXgNxYAIDuf",
        "outputId": "198dab31-d9ee-4a0f-e260-c05989bc9859"
      },
      "execution_count": null,
      "outputs": [
        {
          "output_type": "stream",
          "name": "stdout",
          "text": [
            "\n",
            "🎯 Processing N = 15 (quantum simulation)...\n",
            "  ⏳ Attempt 1: Trying a = 7\n",
            "    📊 Order found: r = 4\n",
            "    🔍 r even, gcd(a^(r/2)-1, N) = 3\n",
            "    ✅ SUCCESS: factor = 3, time = 4.86s\n",
            "       Circuit stats: depth = 2139, width = 20, gates = 2282\n"
          ]
        }
      ]
    },
    {
      "cell_type": "code",
      "source": [
        "results21 = find_factors_shor(21)"
      ],
      "metadata": {
        "id": "0i7IMqT0amjA",
        "colab": {
          "base_uri": "https://localhost:8080/"
        },
        "outputId": "c1458a41-741a-4e02-d2b3-8243c213eee8"
      },
      "execution_count": null,
      "outputs": [
        {
          "output_type": "stream",
          "name": "stdout",
          "text": [
            "\n",
            "🎯 Processing N = 21 (quantum simulation)...\n",
            "  ⏳ Attempt 1: Trying a = 2\n",
            "    📊 Order found: r = 6\n",
            "    🔍 r even, gcd(a^(r/2)-1, N) = 7\n",
            "    ✅ SUCCESS: factor = 7, time = 44.55s\n",
            "       Circuit stats: depth = 57846, width = 25, gates = 59553\n"
          ]
        }
      ]
    },
    {
      "cell_type": "code",
      "source": [
        "results33 = find_factors_shor(33)"
      ],
      "metadata": {
        "colab": {
          "base_uri": "https://localhost:8080/"
        },
        "id": "oxf00_rS3Pu_",
        "outputId": "ba77dc7b-c34d-4aad-a11a-c0504e2c8506"
      },
      "execution_count": null,
      "outputs": [
        {
          "output_type": "stream",
          "name": "stdout",
          "text": [
            "\n",
            "🎯 Processing N = 33 (quantum simulation)...\n",
            "  ⏳ Attempt 1: Trying a = 2\n",
            "    📊 Order found: r = 10\n",
            "    🔍 r even, gcd(a^(r/2)-1, N) = 1\n",
            "    ❌ Failed: gcd result = 1 → retry\n",
            "  ⏳ Attempt 2: Trying a = 4\n",
            "    📊 Order found: r = 5\n",
            "    ❌ r is odd → retry\n",
            "  ⏳ Attempt 3: Trying a = 10\n",
            "    📊 Order found: r = 2\n",
            "    🔍 r even, gcd(a^(r/2)-1, N) = 3\n",
            "    ✅ SUCCESS: factor = 3, time = 903.28s\n",
            "       Circuit stats: depth = 25222, width = 30, gates = 25746\n"
          ]
        }
      ]
    },
    {
      "cell_type": "code",
      "source": [
        "results35 = find_factors_shor(35)"
      ],
      "metadata": {
        "colab": {
          "base_uri": "https://localhost:8080/"
        },
        "id": "ikP-g-fI3P4h",
        "outputId": "7d63f3ad-1e46-41da-ff63-b6feee16f988"
      },
      "execution_count": null,
      "outputs": [
        {
          "output_type": "stream",
          "name": "stdout",
          "text": [
            "\n",
            "🎯 Processing N = 35 (quantum simulation)...\n",
            "  ⏳ Attempt 1: Trying a = 27\n",
            "    📊 Order found: r = 4\n",
            "    🔍 r even, gcd(a^(r/2)-1, N) = 7\n",
            "    ✅ SUCCESS: factor = 7, time = 175.05s\n",
            "       Circuit stats: depth = 49003, width = 30, gates = 49959\n"
          ]
        }
      ]
    },
    {
      "cell_type": "code",
      "source": [
        "results39 = find_factors_shor(39)"
      ],
      "metadata": {
        "colab": {
          "base_uri": "https://localhost:8080/"
        },
        "id": "SXGzxdGq3QBA",
        "outputId": "1464aa48-4d6d-4664-9d2e-7e1799a878eb"
      },
      "execution_count": null,
      "outputs": [
        {
          "output_type": "stream",
          "name": "stdout",
          "text": [
            "\n",
            "🎯 Processing N = 39 (quantum simulation)...\n",
            "  ⏳ Attempt 1: Trying a = 8\n",
            "    📊 Order found: r = 4\n",
            "    🔍 r even, gcd(a^(r/2)-1, N) = 3\n",
            "    ✅ SUCCESS: factor = 3, time = 81.78s\n",
            "       Circuit stats: depth = 50729, width = 30, gates = 51694\n"
          ]
        }
      ]
    },
    {
      "cell_type": "code",
      "source": [
        "results51 = find_factors_shor(51)"
      ],
      "metadata": {
        "colab": {
          "base_uri": "https://localhost:8080/"
        },
        "id": "ztcY0NpN3QI6",
        "outputId": "306dc384-5e29-4700-bd5a-8369a25baf59"
      },
      "execution_count": null,
      "outputs": [
        {
          "output_type": "stream",
          "name": "stdout",
          "text": [
            "\n",
            "🎯 Processing N = 51 (quantum simulation)...\n",
            "  ⏳ Attempt 1: Trying a = 28\n",
            "    📊 Order found: r = 16\n",
            "    🔍 r even, gcd(a^(r/2)-1, N) = 3\n",
            "    ✅ SUCCESS: factor = 3, time = 259.71s\n",
            "       Circuit stats: depth = 101396, width = 30, gates = 103269\n"
          ]
        }
      ]
    },
    {
      "cell_type": "code",
      "source": [
        "results55 = find_factors_shor(55)"
      ],
      "metadata": {
        "colab": {
          "base_uri": "https://localhost:8080/"
        },
        "id": "quowSGAk3QpK",
        "outputId": "d9ff8fa3-a71e-474d-ff6c-9f09529d06f5"
      },
      "execution_count": null,
      "outputs": [
        {
          "output_type": "stream",
          "name": "stdout",
          "text": [
            "\n",
            "🎯 Processing N = 55 (quantum simulation)...\n",
            "  ⏳ Attempt 1: Trying a = 42\n",
            "    📊 Order found: r = 20\n",
            "    🔍 r even, gcd(a^(r/2)-1, N) = 11\n",
            "    ✅ SUCCESS: factor = 11, time = 456.07s\n",
            "       Circuit stats: depth = 303342, width = 30, gates = 308868\n"
          ]
        }
      ]
    },
    {
      "cell_type": "code",
      "source": [
        "results57 = find_factors_shor(57)"
      ],
      "metadata": {
        "colab": {
          "base_uri": "https://localhost:8080/"
        },
        "id": "J6BDxMk3xiyn",
        "outputId": "8f6d2419-1216-436d-8298-5db69a21b082"
      },
      "execution_count": null,
      "outputs": [
        {
          "output_type": "stream",
          "name": "stdout",
          "text": [
            "\n",
            "🎯 Processing N = 57 (quantum simulation)...\n",
            "  ⏳ Attempt 1: Trying a = 43\n",
            "    📊 Order found: r = 9\n",
            "    ❌ r is odd → retry\n",
            "  ⏳ Attempt 2: Trying a = 52\n",
            "    📊 Order found: r = 18\n",
            "    🔍 r even, gcd(a^(r/2)-1, N) = 3\n",
            "    ✅ SUCCESS: factor = 3, time = 1224.46s\n",
            "       Circuit stats: depth = 303801, width = 30, gates = 309301\n"
          ]
        }
      ]
    },
    {
      "cell_type": "code",
      "source": [
        "results85 = find_factors_shor(85)"
      ],
      "metadata": {
        "colab": {
          "base_uri": "https://localhost:8080/"
        },
        "id": "Vf8msz8u3QPy",
        "outputId": "73ed5dcc-562b-45fa-d781-7faad047498c"
      },
      "execution_count": 4,
      "outputs": [
        {
          "output_type": "stream",
          "name": "stdout",
          "text": [
            "\n",
            "🎯 Processing N = 85 (quantum simulation)...\n",
            "  ⏳ Attempt 1: Trying a = 52\n",
            "    📊 Order found: r = 4\n",
            "    🔍 r even, gcd(a^(r/2)-1, N) = 17\n",
            "    ✅ SUCCESS: factor = 17, time = 5442.59s\n",
            "       Circuit stats: depth = 210754, width = 35, gates = 213106\n"
          ]
        }
      ]
    },
    {
      "cell_type": "code",
      "source": [
        "formatted_table = pd.DataFrame({\n",
        "    'N': results85['N'],\n",
        "    'Status': results85['success'].apply(lambda x: '✅ Success' if x else '❌ Failed'),\n",
        "    'Qubits': results85['qubits'],\n",
        "    'Gates': results85['gates'],\n",
        "    'Depth': results85['depth'],\n",
        "    'Time (s)': results85['time'].apply(lambda x: f\"{x:.2f}\" if x > 0 else \"N/A\"),\n",
        "    'Attempts': results85['attempts'],\n",
        "    'Factor': results85['factor'].apply(lambda x: int(x) if x > 0 else \"None\"),\n",
        "})"
      ],
      "metadata": {
        "id": "ooij0nmVU3fi"
      },
      "execution_count": 5,
      "outputs": []
    },
    {
      "cell_type": "code",
      "source": [
        "results91 = find_factors_shor(91)"
      ],
      "metadata": {
        "id": "2gsve1Xf3QXJ",
        "colab": {
          "base_uri": "https://localhost:8080/"
        },
        "outputId": "dd9ea334-77bd-40fe-e499-5a20e7d06740"
      },
      "execution_count": null,
      "outputs": [
        {
          "output_type": "stream",
          "name": "stdout",
          "text": [
            "\n",
            "🎯 Processing N = 91 (quantum simulation)...\n",
            "  ⏳ Attempt 1: Trying a = 55\n"
          ]
        }
      ]
    },
    {
      "cell_type": "code",
      "source": [
        "formatted_table = pd.DataFrame({\n",
        "    'N': results91['N'],\n",
        "    'Status': results91['success'].apply(lambda x: '✅ Success' if x else '❌ Failed'),\n",
        "    'Qubits': results91['qubits'],\n",
        "    'Gates': results91['gates'],\n",
        "    'Depth': results91['depth'],\n",
        "    'Time (s)': results91['time'].apply(lambda x: f\"{x:.2f}\" if x > 0 else \"N/A\"),\n",
        "    'Attempts': results91['attempts'],\n",
        "    'Factor': results91['factor'].apply(lambda x: int(x) if x > 0 else \"None\"),\n",
        "})"
      ],
      "metadata": {
        "id": "x0ACOSUdU8LG"
      },
      "execution_count": null,
      "outputs": []
    },
    {
      "cell_type": "code",
      "source": [
        "formatted_table"
      ],
      "metadata": {
        "id": "LGCJUdO43QuD"
      },
      "execution_count": null,
      "outputs": []
    },
    {
      "cell_type": "code",
      "source": [
        "results93 = find_factors_shor(93)"
      ],
      "metadata": {
        "id": "O4500D2u3Qdg"
      },
      "execution_count": null,
      "outputs": []
    },
    {
      "cell_type": "code",
      "source": [
        "formatted_table = pd.DataFrame({\n",
        "    'N': results93['N'],\n",
        "    'Status': results93['success'].apply(lambda x: '✅ Success' if x else '❌ Failed'),\n",
        "    'Qubits': results93['qubits'],\n",
        "    'Gates': results93['gates'],\n",
        "    'Depth': results93['depth'],\n",
        "    'Time (s)': results93['time'].apply(lambda x: f\"{x:.2f}\" if x > 0 else \"N/A\"),\n",
        "    'Attempts': results93['attempts'],\n",
        "    'Factor': results93['factor'].apply(lambda x: int(x) if x > 0 else \"None\"),\n",
        "})"
      ],
      "metadata": {
        "id": "_ZEBQUx6U8xq"
      },
      "execution_count": null,
      "outputs": []
    },
    {
      "cell_type": "code",
      "source": [
        "formatted_table"
      ],
      "metadata": {
        "id": "r5xMtpGE3VrH"
      },
      "execution_count": null,
      "outputs": []
    },
    {
      "cell_type": "code",
      "source": [
        "results95 = find_factors_shor(95)"
      ],
      "metadata": {
        "id": "RD1Fh9_Q3Qj1"
      },
      "execution_count": null,
      "outputs": []
    },
    {
      "cell_type": "code",
      "source": [
        "formatted_table = pd.DataFrame({\n",
        "    'N': results95['N'],\n",
        "    'Status': results95['success'].apply(lambda x: '✅ Success' if x else '❌ Failed'),\n",
        "    'Qubits': results95['qubits'],\n",
        "    'Gates': results95['gates'],\n",
        "    'Depth': results95['depth'],\n",
        "    'Time (s)': results95['time'].apply(lambda x: f\"{x:.2f}\" if x > 0 else \"N/A\"),\n",
        "    'Attempts': results95['attempts'],\n",
        "    'Factor': results95['factor'].apply(lambda x: int(x) if x > 0 else \"None\"),\n",
        "})"
      ],
      "metadata": {
        "id": "oPQ3-5lTU9iz"
      },
      "execution_count": null,
      "outputs": []
    },
    {
      "cell_type": "code",
      "source": [
        "formatted_table"
      ],
      "metadata": {
        "id": "7fz3d_jK3Xbs"
      },
      "execution_count": null,
      "outputs": []
    },
    {
      "cell_type": "code",
      "source": [
        "results111 = find_factors_shor(111)"
      ],
      "metadata": {
        "id": "l6imt8Yzxi1M"
      },
      "execution_count": null,
      "outputs": []
    },
    {
      "cell_type": "code",
      "source": [
        "formatted_table = pd.DataFrame({\n",
        "    'N': results111['N'],\n",
        "    'Status': results111['success'].apply(lambda x: '✅ Success' if x else '❌ Failed'),\n",
        "    'Qubits': results111['qubits'],\n",
        "    'Gates': results111['gates'],\n",
        "    'Depth': results111['depth'],\n",
        "    'Time (s)': results111['time'].apply(lambda x: f\"{x:.2f}\" if x > 0 else \"N/A\"),\n",
        "    'Attempts': results111['attempts'],\n",
        "    'Factor': results111['factor'].apply(lambda x: int(x) if x > 0 else \"None\"),\n",
        "})"
      ],
      "metadata": {
        "id": "PTQXH5UPU-ua"
      },
      "execution_count": null,
      "outputs": []
    },
    {
      "cell_type": "code",
      "source": [
        "formatted_table"
      ],
      "metadata": {
        "id": "jfbLCfnA3YWU"
      },
      "execution_count": null,
      "outputs": []
    },
    {
      "cell_type": "markdown",
      "source": [
        "# Combine Results\n",
        "* present as table"
      ],
      "metadata": {
        "id": "_1oNHabo4LYg"
      }
    },
    {
      "cell_type": "code",
      "source": [
        "combined = combine_results(results15,\n",
        "                           results21,\n",
        "                           results33,\n",
        "                           results35,\n",
        "                           results39,\n",
        "                           results51,\n",
        "                           results55,\n",
        "                           results57)"
      ],
      "metadata": {
        "colab": {
          "base_uri": "https://localhost:8080/"
        },
        "id": "Hoz6FQRgxi7i",
        "outputId": "9d1f43f0-1d22-459b-a88a-d4c5aaa65395"
      },
      "execution_count": null,
      "outputs": [
        {
          "output_type": "stream",
          "name": "stdout",
          "text": [
            "\n",
            "📈 SUMMARY STATISTICS:\n",
            "   • Total numbers tested: 8\n",
            "   • Successful factorizations: 8\n",
            "   • Success rate: 100.0%\n",
            "   • Average time (successful): 393.72s\n",
            "   • Average attempts (successful): 1.4\n",
            "   • Largest N factored: 57\n"
          ]
        }
      ]
    },
    {
      "cell_type": "code",
      "source": [
        "formatted_table = pd.DataFrame({\n",
        "    'N': combined['N'],\n",
        "    'Status': combined['success'].apply(lambda x: '✅ Success' if x else '❌ Failed'),\n",
        "    'Qubits': combined['qubits'],\n",
        "    'Gates': combined['gates'],\n",
        "    'Depth': combined['depth'],\n",
        "    'Time (s)': combined['time'].apply(lambda x: f\"{x:.2f}\" if x > 0 else \"N/A\"),\n",
        "    'Attempts': combined['attempts'],\n",
        "    'Factor': combined['factor'].apply(lambda x: int(x) if x > 0 else \"None\"),\n",
        "})"
      ],
      "metadata": {
        "id": "10YABRx-zeoY"
      },
      "execution_count": null,
      "outputs": []
    },
    {
      "cell_type": "code",
      "source": [
        "formatted_table"
      ],
      "metadata": {
        "colab": {
          "base_uri": "https://localhost:8080/",
          "height": 300
        },
        "id": "2dSz2F6_zeqe",
        "outputId": "d45683cd-e138-4257-aa35-083a5971e2ca"
      },
      "execution_count": null,
      "outputs": [
        {
          "output_type": "execute_result",
          "data": {
            "text/plain": [
              "    N     Status  Qubits   Gates   Depth Time (s)  Attempts  Factor\n",
              "0  15  ✅ Success      12    2282    2139     4.86         1       3\n",
              "1  21  ✅ Success      15   59553   57846    44.55         1       7\n",
              "2  33  ✅ Success      18   25746   25222   903.28         3       3\n",
              "3  35  ✅ Success      18   49959   49003   175.05         1       7\n",
              "4  39  ✅ Success      18   51694   50729    81.78         1       3\n",
              "5  51  ✅ Success      18  103269  101396   259.71         1       3\n",
              "6  55  ✅ Success      18  308868  303342   456.07         1      11\n",
              "7  57  ✅ Success      18  309301  303801  1224.46         2       3"
            ],
            "text/html": [
              "\n",
              "  <div id=\"df-b74b4d7d-6e43-41da-b1f7-e1059dd33e18\" class=\"colab-df-container\">\n",
              "    <div>\n",
              "<style scoped>\n",
              "    .dataframe tbody tr th:only-of-type {\n",
              "        vertical-align: middle;\n",
              "    }\n",
              "\n",
              "    .dataframe tbody tr th {\n",
              "        vertical-align: top;\n",
              "    }\n",
              "\n",
              "    .dataframe thead th {\n",
              "        text-align: right;\n",
              "    }\n",
              "</style>\n",
              "<table border=\"1\" class=\"dataframe\">\n",
              "  <thead>\n",
              "    <tr style=\"text-align: right;\">\n",
              "      <th></th>\n",
              "      <th>N</th>\n",
              "      <th>Status</th>\n",
              "      <th>Qubits</th>\n",
              "      <th>Gates</th>\n",
              "      <th>Depth</th>\n",
              "      <th>Time (s)</th>\n",
              "      <th>Attempts</th>\n",
              "      <th>Factor</th>\n",
              "    </tr>\n",
              "  </thead>\n",
              "  <tbody>\n",
              "    <tr>\n",
              "      <th>0</th>\n",
              "      <td>15</td>\n",
              "      <td>✅ Success</td>\n",
              "      <td>12</td>\n",
              "      <td>2282</td>\n",
              "      <td>2139</td>\n",
              "      <td>4.86</td>\n",
              "      <td>1</td>\n",
              "      <td>3</td>\n",
              "    </tr>\n",
              "    <tr>\n",
              "      <th>1</th>\n",
              "      <td>21</td>\n",
              "      <td>✅ Success</td>\n",
              "      <td>15</td>\n",
              "      <td>59553</td>\n",
              "      <td>57846</td>\n",
              "      <td>44.55</td>\n",
              "      <td>1</td>\n",
              "      <td>7</td>\n",
              "    </tr>\n",
              "    <tr>\n",
              "      <th>2</th>\n",
              "      <td>33</td>\n",
              "      <td>✅ Success</td>\n",
              "      <td>18</td>\n",
              "      <td>25746</td>\n",
              "      <td>25222</td>\n",
              "      <td>903.28</td>\n",
              "      <td>3</td>\n",
              "      <td>3</td>\n",
              "    </tr>\n",
              "    <tr>\n",
              "      <th>3</th>\n",
              "      <td>35</td>\n",
              "      <td>✅ Success</td>\n",
              "      <td>18</td>\n",
              "      <td>49959</td>\n",
              "      <td>49003</td>\n",
              "      <td>175.05</td>\n",
              "      <td>1</td>\n",
              "      <td>7</td>\n",
              "    </tr>\n",
              "    <tr>\n",
              "      <th>4</th>\n",
              "      <td>39</td>\n",
              "      <td>✅ Success</td>\n",
              "      <td>18</td>\n",
              "      <td>51694</td>\n",
              "      <td>50729</td>\n",
              "      <td>81.78</td>\n",
              "      <td>1</td>\n",
              "      <td>3</td>\n",
              "    </tr>\n",
              "    <tr>\n",
              "      <th>5</th>\n",
              "      <td>51</td>\n",
              "      <td>✅ Success</td>\n",
              "      <td>18</td>\n",
              "      <td>103269</td>\n",
              "      <td>101396</td>\n",
              "      <td>259.71</td>\n",
              "      <td>1</td>\n",
              "      <td>3</td>\n",
              "    </tr>\n",
              "    <tr>\n",
              "      <th>6</th>\n",
              "      <td>55</td>\n",
              "      <td>✅ Success</td>\n",
              "      <td>18</td>\n",
              "      <td>308868</td>\n",
              "      <td>303342</td>\n",
              "      <td>456.07</td>\n",
              "      <td>1</td>\n",
              "      <td>11</td>\n",
              "    </tr>\n",
              "    <tr>\n",
              "      <th>7</th>\n",
              "      <td>57</td>\n",
              "      <td>✅ Success</td>\n",
              "      <td>18</td>\n",
              "      <td>309301</td>\n",
              "      <td>303801</td>\n",
              "      <td>1224.46</td>\n",
              "      <td>2</td>\n",
              "      <td>3</td>\n",
              "    </tr>\n",
              "  </tbody>\n",
              "</table>\n",
              "</div>\n",
              "    <div class=\"colab-df-buttons\">\n",
              "\n",
              "  <div class=\"colab-df-container\">\n",
              "    <button class=\"colab-df-convert\" onclick=\"convertToInteractive('df-b74b4d7d-6e43-41da-b1f7-e1059dd33e18')\"\n",
              "            title=\"Convert this dataframe to an interactive table.\"\n",
              "            style=\"display:none;\">\n",
              "\n",
              "  <svg xmlns=\"http://www.w3.org/2000/svg\" height=\"24px\" viewBox=\"0 -960 960 960\">\n",
              "    <path d=\"M120-120v-720h720v720H120Zm60-500h600v-160H180v160Zm220 220h160v-160H400v160Zm0 220h160v-160H400v160ZM180-400h160v-160H180v160Zm440 0h160v-160H620v160ZM180-180h160v-160H180v160Zm440 0h160v-160H620v160Z\"/>\n",
              "  </svg>\n",
              "    </button>\n",
              "\n",
              "  <style>\n",
              "    .colab-df-container {\n",
              "      display:flex;\n",
              "      gap: 12px;\n",
              "    }\n",
              "\n",
              "    .colab-df-convert {\n",
              "      background-color: #E8F0FE;\n",
              "      border: none;\n",
              "      border-radius: 50%;\n",
              "      cursor: pointer;\n",
              "      display: none;\n",
              "      fill: #1967D2;\n",
              "      height: 32px;\n",
              "      padding: 0 0 0 0;\n",
              "      width: 32px;\n",
              "    }\n",
              "\n",
              "    .colab-df-convert:hover {\n",
              "      background-color: #E2EBFA;\n",
              "      box-shadow: 0px 1px 2px rgba(60, 64, 67, 0.3), 0px 1px 3px 1px rgba(60, 64, 67, 0.15);\n",
              "      fill: #174EA6;\n",
              "    }\n",
              "\n",
              "    .colab-df-buttons div {\n",
              "      margin-bottom: 4px;\n",
              "    }\n",
              "\n",
              "    [theme=dark] .colab-df-convert {\n",
              "      background-color: #3B4455;\n",
              "      fill: #D2E3FC;\n",
              "    }\n",
              "\n",
              "    [theme=dark] .colab-df-convert:hover {\n",
              "      background-color: #434B5C;\n",
              "      box-shadow: 0px 1px 3px 1px rgba(0, 0, 0, 0.15);\n",
              "      filter: drop-shadow(0px 1px 2px rgba(0, 0, 0, 0.3));\n",
              "      fill: #FFFFFF;\n",
              "    }\n",
              "  </style>\n",
              "\n",
              "    <script>\n",
              "      const buttonEl =\n",
              "        document.querySelector('#df-b74b4d7d-6e43-41da-b1f7-e1059dd33e18 button.colab-df-convert');\n",
              "      buttonEl.style.display =\n",
              "        google.colab.kernel.accessAllowed ? 'block' : 'none';\n",
              "\n",
              "      async function convertToInteractive(key) {\n",
              "        const element = document.querySelector('#df-b74b4d7d-6e43-41da-b1f7-e1059dd33e18');\n",
              "        const dataTable =\n",
              "          await google.colab.kernel.invokeFunction('convertToInteractive',\n",
              "                                                    [key], {});\n",
              "        if (!dataTable) return;\n",
              "\n",
              "        const docLinkHtml = 'Like what you see? Visit the ' +\n",
              "          '<a target=\"_blank\" href=https://colab.research.google.com/notebooks/data_table.ipynb>data table notebook</a>'\n",
              "          + ' to learn more about interactive tables.';\n",
              "        element.innerHTML = '';\n",
              "        dataTable['output_type'] = 'display_data';\n",
              "        await google.colab.output.renderOutput(dataTable, element);\n",
              "        const docLink = document.createElement('div');\n",
              "        docLink.innerHTML = docLinkHtml;\n",
              "        element.appendChild(docLink);\n",
              "      }\n",
              "    </script>\n",
              "  </div>\n",
              "\n",
              "\n",
              "    <div id=\"df-b8fd7637-2135-4c4a-8370-f27f6b6f7a1e\">\n",
              "      <button class=\"colab-df-quickchart\" onclick=\"quickchart('df-b8fd7637-2135-4c4a-8370-f27f6b6f7a1e')\"\n",
              "                title=\"Suggest charts\"\n",
              "                style=\"display:none;\">\n",
              "\n",
              "<svg xmlns=\"http://www.w3.org/2000/svg\" height=\"24px\"viewBox=\"0 0 24 24\"\n",
              "     width=\"24px\">\n",
              "    <g>\n",
              "        <path d=\"M19 3H5c-1.1 0-2 .9-2 2v14c0 1.1.9 2 2 2h14c1.1 0 2-.9 2-2V5c0-1.1-.9-2-2-2zM9 17H7v-7h2v7zm4 0h-2V7h2v10zm4 0h-2v-4h2v4z\"/>\n",
              "    </g>\n",
              "</svg>\n",
              "      </button>\n",
              "\n",
              "<style>\n",
              "  .colab-df-quickchart {\n",
              "      --bg-color: #E8F0FE;\n",
              "      --fill-color: #1967D2;\n",
              "      --hover-bg-color: #E2EBFA;\n",
              "      --hover-fill-color: #174EA6;\n",
              "      --disabled-fill-color: #AAA;\n",
              "      --disabled-bg-color: #DDD;\n",
              "  }\n",
              "\n",
              "  [theme=dark] .colab-df-quickchart {\n",
              "      --bg-color: #3B4455;\n",
              "      --fill-color: #D2E3FC;\n",
              "      --hover-bg-color: #434B5C;\n",
              "      --hover-fill-color: #FFFFFF;\n",
              "      --disabled-bg-color: #3B4455;\n",
              "      --disabled-fill-color: #666;\n",
              "  }\n",
              "\n",
              "  .colab-df-quickchart {\n",
              "    background-color: var(--bg-color);\n",
              "    border: none;\n",
              "    border-radius: 50%;\n",
              "    cursor: pointer;\n",
              "    display: none;\n",
              "    fill: var(--fill-color);\n",
              "    height: 32px;\n",
              "    padding: 0;\n",
              "    width: 32px;\n",
              "  }\n",
              "\n",
              "  .colab-df-quickchart:hover {\n",
              "    background-color: var(--hover-bg-color);\n",
              "    box-shadow: 0 1px 2px rgba(60, 64, 67, 0.3), 0 1px 3px 1px rgba(60, 64, 67, 0.15);\n",
              "    fill: var(--button-hover-fill-color);\n",
              "  }\n",
              "\n",
              "  .colab-df-quickchart-complete:disabled,\n",
              "  .colab-df-quickchart-complete:disabled:hover {\n",
              "    background-color: var(--disabled-bg-color);\n",
              "    fill: var(--disabled-fill-color);\n",
              "    box-shadow: none;\n",
              "  }\n",
              "\n",
              "  .colab-df-spinner {\n",
              "    border: 2px solid var(--fill-color);\n",
              "    border-color: transparent;\n",
              "    border-bottom-color: var(--fill-color);\n",
              "    animation:\n",
              "      spin 1s steps(1) infinite;\n",
              "  }\n",
              "\n",
              "  @keyframes spin {\n",
              "    0% {\n",
              "      border-color: transparent;\n",
              "      border-bottom-color: var(--fill-color);\n",
              "      border-left-color: var(--fill-color);\n",
              "    }\n",
              "    20% {\n",
              "      border-color: transparent;\n",
              "      border-left-color: var(--fill-color);\n",
              "      border-top-color: var(--fill-color);\n",
              "    }\n",
              "    30% {\n",
              "      border-color: transparent;\n",
              "      border-left-color: var(--fill-color);\n",
              "      border-top-color: var(--fill-color);\n",
              "      border-right-color: var(--fill-color);\n",
              "    }\n",
              "    40% {\n",
              "      border-color: transparent;\n",
              "      border-right-color: var(--fill-color);\n",
              "      border-top-color: var(--fill-color);\n",
              "    }\n",
              "    60% {\n",
              "      border-color: transparent;\n",
              "      border-right-color: var(--fill-color);\n",
              "    }\n",
              "    80% {\n",
              "      border-color: transparent;\n",
              "      border-right-color: var(--fill-color);\n",
              "      border-bottom-color: var(--fill-color);\n",
              "    }\n",
              "    90% {\n",
              "      border-color: transparent;\n",
              "      border-bottom-color: var(--fill-color);\n",
              "    }\n",
              "  }\n",
              "</style>\n",
              "\n",
              "      <script>\n",
              "        async function quickchart(key) {\n",
              "          const quickchartButtonEl =\n",
              "            document.querySelector('#' + key + ' button');\n",
              "          quickchartButtonEl.disabled = true;  // To prevent multiple clicks.\n",
              "          quickchartButtonEl.classList.add('colab-df-spinner');\n",
              "          try {\n",
              "            const charts = await google.colab.kernel.invokeFunction(\n",
              "                'suggestCharts', [key], {});\n",
              "          } catch (error) {\n",
              "            console.error('Error during call to suggestCharts:', error);\n",
              "          }\n",
              "          quickchartButtonEl.classList.remove('colab-df-spinner');\n",
              "          quickchartButtonEl.classList.add('colab-df-quickchart-complete');\n",
              "        }\n",
              "        (() => {\n",
              "          let quickchartButtonEl =\n",
              "            document.querySelector('#df-b8fd7637-2135-4c4a-8370-f27f6b6f7a1e button');\n",
              "          quickchartButtonEl.style.display =\n",
              "            google.colab.kernel.accessAllowed ? 'block' : 'none';\n",
              "        })();\n",
              "      </script>\n",
              "    </div>\n",
              "\n",
              "  <div id=\"id_9d2dea2c-c5e7-4268-9234-5264619e23b8\">\n",
              "    <style>\n",
              "      .colab-df-generate {\n",
              "        background-color: #E8F0FE;\n",
              "        border: none;\n",
              "        border-radius: 50%;\n",
              "        cursor: pointer;\n",
              "        display: none;\n",
              "        fill: #1967D2;\n",
              "        height: 32px;\n",
              "        padding: 0 0 0 0;\n",
              "        width: 32px;\n",
              "      }\n",
              "\n",
              "      .colab-df-generate:hover {\n",
              "        background-color: #E2EBFA;\n",
              "        box-shadow: 0px 1px 2px rgba(60, 64, 67, 0.3), 0px 1px 3px 1px rgba(60, 64, 67, 0.15);\n",
              "        fill: #174EA6;\n",
              "      }\n",
              "\n",
              "      [theme=dark] .colab-df-generate {\n",
              "        background-color: #3B4455;\n",
              "        fill: #D2E3FC;\n",
              "      }\n",
              "\n",
              "      [theme=dark] .colab-df-generate:hover {\n",
              "        background-color: #434B5C;\n",
              "        box-shadow: 0px 1px 3px 1px rgba(0, 0, 0, 0.15);\n",
              "        filter: drop-shadow(0px 1px 2px rgba(0, 0, 0, 0.3));\n",
              "        fill: #FFFFFF;\n",
              "      }\n",
              "    </style>\n",
              "    <button class=\"colab-df-generate\" onclick=\"generateWithVariable('formatted_table')\"\n",
              "            title=\"Generate code using this dataframe.\"\n",
              "            style=\"display:none;\">\n",
              "\n",
              "  <svg xmlns=\"http://www.w3.org/2000/svg\" height=\"24px\"viewBox=\"0 0 24 24\"\n",
              "       width=\"24px\">\n",
              "    <path d=\"M7,19H8.4L18.45,9,17,7.55,7,17.6ZM5,21V16.75L18.45,3.32a2,2,0,0,1,2.83,0l1.4,1.43a1.91,1.91,0,0,1,.58,1.4,1.91,1.91,0,0,1-.58,1.4L9.25,21ZM18.45,9,17,7.55Zm-12,3A5.31,5.31,0,0,0,4.9,8.1,5.31,5.31,0,0,0,1,6.5,5.31,5.31,0,0,0,4.9,4.9,5.31,5.31,0,0,0,6.5,1,5.31,5.31,0,0,0,8.1,4.9,5.31,5.31,0,0,0,12,6.5,5.46,5.46,0,0,0,6.5,12Z\"/>\n",
              "  </svg>\n",
              "    </button>\n",
              "    <script>\n",
              "      (() => {\n",
              "      const buttonEl =\n",
              "        document.querySelector('#id_9d2dea2c-c5e7-4268-9234-5264619e23b8 button.colab-df-generate');\n",
              "      buttonEl.style.display =\n",
              "        google.colab.kernel.accessAllowed ? 'block' : 'none';\n",
              "\n",
              "      buttonEl.onclick = () => {\n",
              "        google.colab.notebook.generateWithVariable('formatted_table');\n",
              "      }\n",
              "      })();\n",
              "    </script>\n",
              "  </div>\n",
              "\n",
              "    </div>\n",
              "  </div>\n"
            ],
            "application/vnd.google.colaboratory.intrinsic+json": {
              "type": "dataframe",
              "variable_name": "formatted_table",
              "summary": "{\n  \"name\": \"formatted_table\",\n  \"rows\": 8,\n  \"fields\": [\n    {\n      \"column\": \"N\",\n      \"properties\": {\n        \"dtype\": \"number\",\n        \"std\": 15,\n        \"min\": 15,\n        \"max\": 57,\n        \"num_unique_values\": 8,\n        \"samples\": [\n          21,\n          51,\n          15\n        ],\n        \"semantic_type\": \"\",\n        \"description\": \"\"\n      }\n    },\n    {\n      \"column\": \"Status\",\n      \"properties\": {\n        \"dtype\": \"category\",\n        \"num_unique_values\": 1,\n        \"samples\": [\n          \"\\u2705 Success\"\n        ],\n        \"semantic_type\": \"\",\n        \"description\": \"\"\n      }\n    },\n    {\n      \"column\": \"Qubits\",\n      \"properties\": {\n        \"dtype\": \"number\",\n        \"std\": 2,\n        \"min\": 12,\n        \"max\": 18,\n        \"num_unique_values\": 3,\n        \"samples\": [\n          12\n        ],\n        \"semantic_type\": \"\",\n        \"description\": \"\"\n      }\n    },\n    {\n      \"column\": \"Gates\",\n      \"properties\": {\n        \"dtype\": \"number\",\n        \"std\": 123894,\n        \"min\": 2282,\n        \"max\": 309301,\n        \"num_unique_values\": 8,\n        \"samples\": [\n          59553\n        ],\n        \"semantic_type\": \"\",\n        \"description\": \"\"\n      }\n    },\n    {\n      \"column\": \"Depth\",\n      \"properties\": {\n        \"dtype\": \"number\",\n        \"std\": 121752,\n        \"min\": 2139,\n        \"max\": 303801,\n        \"num_unique_values\": 8,\n        \"samples\": [\n          57846\n        ],\n        \"semantic_type\": \"\",\n        \"description\": \"\"\n      }\n    },\n    {\n      \"column\": \"Time (s)\",\n      \"properties\": {\n        \"dtype\": \"string\",\n        \"num_unique_values\": 8,\n        \"samples\": [\n          \"44.55\"\n        ],\n        \"semantic_type\": \"\",\n        \"description\": \"\"\n      }\n    },\n    {\n      \"column\": \"Attempts\",\n      \"properties\": {\n        \"dtype\": \"number\",\n        \"std\": 0,\n        \"min\": 1,\n        \"max\": 3,\n        \"num_unique_values\": 3,\n        \"samples\": [\n          1\n        ],\n        \"semantic_type\": \"\",\n        \"description\": \"\"\n      }\n    },\n    {\n      \"column\": \"Factor\",\n      \"properties\": {\n        \"dtype\": \"number\",\n        \"std\": 3,\n        \"min\": 3,\n        \"max\": 11,\n        \"num_unique_values\": 3,\n        \"samples\": [\n          3\n        ],\n        \"semantic_type\": \"\",\n        \"description\": \"\"\n      }\n    }\n  ]\n}"
            }
          },
          "metadata": {},
          "execution_count": 36
        }
      ]
    }
  ]
}