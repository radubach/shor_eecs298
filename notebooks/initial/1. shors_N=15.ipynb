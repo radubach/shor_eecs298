{
 "cells": [
  {
   "cell_type": "markdown",
   "metadata": {
    "id": "_uy-BGfaL_ne"
   },
   "source": [
    "# Shors Algorithm\n"
   ]
  },
  {
   "cell_type": "markdown",
   "metadata": {},
   "source": [
    "Shor's Algorithm is known for factoring numbers in polynomial time. Since RSA works on the principle that its impossible to factor large integers, this algorithm can be used to break RSA on a quantum computer given enough qubits to work on( which is still under development )"
   ]
  },
  {
   "cell_type": "markdown",
   "metadata": {},
   "source": [
    "An ideal Quantum computer with 4099 stable bits can break RSA within 10 seconds, but this is an ideal case and such a computer doesnt exist"
   ]
  },
  {
   "cell_type": "markdown",
   "metadata": {},
   "source": [
    "A paper published by Craig Gidney from Google and Martin Ekera from the Royal Institute of Technology showed that using 20 million noisy qubits, it would take upto 8 hours to crack RSA. In our current scenario the biggest quantum computer has only 72 qubits.\n",
    "So it is going to take another decade or maybe two decades to acheive that much computing power"
   ]
  },
  {
   "cell_type": "markdown",
   "metadata": {},
   "source": [
    "This notebook shows/ simulates the Shor's Algorithm for factoring 15"
   ]
  },
  {
   "cell_type": "markdown",
   "metadata": {},
   "source": [
    "The Algorithm works on the fact that factor finding problem can be made into a period finding problem and solve in polynomial time. A periodic function can be of the form:\n",
    "$$\n",
    "    a^{r} mod N = 1\n",
    "$$\n",
    "<br>\n",
    "where r is the period"
   ]
  },
  {
   "cell_type": "code",
   "execution_count": null,
   "metadata": {},
   "outputs": [],
   "source": [
    "# Importing Modules\n",
    "\n",
    "import matplotlib.pyplot as plt\n",
    "import numpy as np\n",
    "from qiskit import QuantumCircuit, transpile\n",
    "from qiskit_aer import AerSimulator\n",
    "from qiskit.visualization import plot_histogram, circuit_drawer\n",
    "from math import gcd\n",
    "from numpy.random import randint\n",
    "import pandas as pd\n",
    "from fractions import Fraction\n",
    "%matplotlib inline\n"
   ]
  },
  {
   "cell_type": "markdown",
   "metadata": {
    "id": "2_xu8P8yXJIG"
   },
   "source": [
    "The function c_amod15 returns us a controlled - U gate for value 'a', repeated _power_ times"
   ]
  },
  {
   "cell_type": "code",
   "execution_count": null,
   "metadata": {
    "id": "esB5X3cdXJSQ"
   },
   "outputs": [],
   "source": [
    "def c_amod15(a, power):\n",
    "  if a not in [2,7,8,11,13]:\n",
    "    raise ValueError(\"test\")\n",
    "  U = QuantumCircuit(4)\n",
    "  for iteration in range(power):\n",
    "    if a in [2,13]:\n",
    "      U.swap(0,1)\n",
    "      U.swap(1,2)\n",
    "      U.swap(2,3)\n",
    "    if a in [7,8]:\n",
    "      U.swap(2,3)\n",
    "      U.swap(1,2)\n",
    "      U.swap(0,1)\n",
    "    \n",
    "    if a == 11:\n",
    "      U.swap(2,3)\n",
    "      U.swap(0,2)\n",
    "\n",
    "    if a in [7,11,13]:\n",
    "      for q in range(4):\n",
    "        U.x(q)\n",
    "  U = U.to_gate()\n",
    "  U.name = \"%i^%i mod 15\" %(a,power)\n",
    "  c_U = U.control()\n",
    "  return c_U"
   ]
  },
  {
   "cell_type": "markdown",
   "metadata": {
    "id": "p5heN-FSXJU4"
   },
   "source": [
    "#### Setting the number of counting qubits and setting value of a\n"
   ]
  },
  {
   "cell_type": "code",
   "execution_count": null,
   "metadata": {
    "id": "9VcmYhV1XJXK"
   },
   "outputs": [],
   "source": [
    "n_count = 8\n",
    "a = 7"
   ]
  },
  {
   "cell_type": "markdown",
   "metadata": {
    "id": "ihPVKgPn1ihl"
   },
   "source": [
    "## Fourier transform function"
   ]
  },
  {
   "cell_type": "code",
   "execution_count": null,
   "metadata": {
    "id": "oYoysxX31ikS"
   },
   "outputs": [],
   "source": [
    "def qft_dagger(n):\n",
    "  qc = QuantumCircuit(n)\n",
    "\n",
    "  for qubit in range(n//2):\n",
    "    qc.swap(qubit, n-qubit-1)\n",
    "  \n",
    "  for j in range(n):\n",
    "    for m in range(j):\n",
    "      qc.cp(-np.pi/float(2**(j-m)),m,j)\n",
    "    qc.h(j)\n",
    "  qc.name = \"QFT\"\n",
    "  return qc"
   ]
  },
  {
   "cell_type": "markdown",
   "metadata": {
    "id": "n1lhmUbk2Iix"
   },
   "source": [
    "## Drawing the Quantum circuit"
   ]
  },
  {
   "cell_type": "code",
   "execution_count": null,
   "metadata": {
    "id": "_9mEUkKV2IlT"
   },
   "outputs": [],
   "source": [
    "qc = QuantumCircuit(n_count+4, n_count)\n",
    "\n",
    "for q in range(n_count):\n",
    "  qc.h(q)\n",
    "\n",
    "qc.x(3+n_count)\n",
    "\n",
    "\n",
    "for q in range(n_count):\n",
    "  qc.append(c_amod15(a,2**q), [q] + [i+n_count for i in range(4)])\n",
    "\n",
    "\n",
    "\n",
    "qc.append(qft_dagger(n_count), range(n_count))\n",
    "\n",
    "\n",
    "qc.measure(range(n_count), range(n_count))\n",
    "\n",
    "qc.draw(fold = -1)\n",
    "circuit_drawer(qc,output = 'mpl', filename = 'circuit.png',fold = -1)"
   ]
  },
  {
   "cell_type": "markdown",
   "metadata": {
    "id": "wrd5aecT2Ipz"
   },
   "source": [
    "### Measuring Results from classical register"
   ]
  },
  {
   "cell_type": "code",
   "execution_count": null,
   "metadata": {
    "id": "q5aTzUPM2IsI"
   },
   "outputs": [],
   "source": [
    "\n",
    "\n",
    "# Set up Aer simulator backend\n",
    "#aer_sim = Aer.get_backend('aer_simulator')\n",
    "\n",
    "aer_sim = AerSimulator()\n",
    "\n",
    "#circuit\n",
    "t_qc = transpile(qc,aer_sim)\n",
    "# ---> If you want to look the circuit ! <-----------\n",
    "# launch :          t_qc.draw('mpl', style=\"iqp\")\n"
   ]
  },
  {
   "cell_type": "code",
   "execution_count": null,
   "metadata": {},
   "outputs": [],
   "source": [
    "#job\n",
    "q_obj = aer_sim.run(t_qc)\n",
    "results = q_obj.result()\n",
    "counts = results.get_counts()\n",
    "print(\"Measurement outcomes:\", counts)\n",
    "plot_histogram(counts)\n"
   ]
  },
  {
   "cell_type": "markdown",
   "metadata": {
    "id": "O0e3HqpuiP8S"
   },
   "source": [
    "Since the measured values are in binary, we convert to decimal values and also find the corresponding phases"
   ]
  },
  {
   "cell_type": "code",
   "execution_count": null,
   "metadata": {
    "id": "bOQBbbGKiP-f"
   },
   "outputs": [],
   "source": [
    "rows, measured_phases = [], []\n",
    "\n",
    "for output in counts:\n",
    "  decimal = int(output, 2)\n",
    "  phase = decimal/(2**n_count)\n",
    "  measured_phases.append(phase)\n",
    "\n",
    "\n",
    "  rows.append([f\"{output}(bin) = {decimal:>3}(dec)\",\n",
    "               f\"{decimal}/{2**n_count} = {phase:.2f}\"])\n",
    "  \n",
    "headers = [\"Register Output\", \"Phase\"]\n",
    "df = pd.DataFrame(rows, columns = headers)\n",
    "print(df)"
   ]
  },
  {
   "cell_type": "markdown",
   "metadata": {
    "id": "UZUAlp5AomEZ"
   },
   "source": [
    "Phases are of the form s/r where s is a value between 0 and r-1, where r is the period.\n",
    "Using the Fraction module, we obtain values s and r values for each of phase values."
   ]
  },
  {
   "cell_type": "code",
   "execution_count": null,
   "metadata": {
    "id": "LGEyySZUomJZ"
   },
   "outputs": [],
   "source": [
    "rows = []\n",
    "for phase in measured_phases:\n",
    "  frac = Fraction(phase).limit_denominator(15) # denominator cant be greater than the number itself\n",
    "  rows.append([phase, f\"{frac.numerator}/{frac.denominator}\",frac.denominator])\n",
    "\n",
    "headers = [\"Phase\", \"Fraction\", \"Guess for r\"]\n",
    "df = pd.DataFrame(rows, columns = headers)\n",
    "print(df)"
   ]
  },
  {
   "cell_type": "markdown",
   "metadata": {
    "id": "resV-C7FUeVL"
   },
   "source": [
    "## Factoring from period finding"
   ]
  },
  {
   "cell_type": "code",
   "execution_count": null,
   "metadata": {
    "id": "SFfFpCf0UeX4"
   },
   "outputs": [],
   "source": [
    "#test number to be factored\n",
    "N = 15\n",
    "\n",
    "np.random.seed(1)\n",
    "a = randint(2,15)\n",
    "print(a)\n",
    "\n"
   ]
  },
  {
   "cell_type": "markdown",
   "metadata": {
    "id": "c8b2uRlpU2PL"
   },
   "source": [
    "Checking if there exists a non-trivial factor between a and N"
   ]
  },
  {
   "cell_type": "code",
   "execution_count": null,
   "metadata": {
    "id": "OMO_NkHFU2TR"
   },
   "outputs": [],
   "source": [
    "from math import gcd\n",
    "gcd(a,N)"
   ]
  },
  {
   "cell_type": "markdown",
   "metadata": {
    "id": "uU7u4ig8U9B7"
   },
   "source": [
    "## Function which compiles all the previous findings into one"
   ]
  },
  {
   "cell_type": "code",
   "execution_count": null,
   "metadata": {
    "id": "hfDs_IItU9Ev"
   },
   "outputs": [],
   "source": [
    "def qpe_mod15(a):\n",
    "  n_count = 8\n",
    "  qc = QuantumCircuit(4+n_count, n_count)\n",
    "  for q in range(n_count):\n",
    "    qc.h(q)\n",
    "  \n",
    "  qc.x(3+n_count)\n",
    "  for q in range(n_count):\n",
    "    qc.append(c_amod15(a,2**q),[q]+[i+n_count for i in range(4)])\n",
    "  \n",
    "  qc.append(qft_dagger(n_count), range(n_count))\n",
    "  qc.measure(range(n_count), range(n_count))\n",
    "\n",
    "\n",
    "  aer_sim = AerSimulator()\n",
    "\n",
    "  t_qc = transpile(qc, aer_sim)\n",
    "    \n",
    "  q_obj = aer_sim.run(t_qc, shots = 1, memory=True)\n",
    "  result = q_obj.result()\n",
    "  #q_obj = aer_sim(t_qc, shots = 1)\n",
    "  #result = aer_sim.run(q_obj, memory = True).result()\n",
    "\n",
    "  readings = result.get_memory()\n",
    "  print(\"Register Reading: \"+readings[0])\n",
    "\n",
    "  phase = int(readings[0],2)/(2**n_count)\n",
    "  print(\"Corresponding phase: %f\" % phase)\n",
    "  return phase"
   ]
  },
  {
   "cell_type": "markdown",
   "metadata": {
    "id": "egJF5OQyU9G_"
   },
   "source": [
    "Getting the phase output and the fraction s/r"
   ]
  },
  {
   "cell_type": "code",
   "execution_count": null,
   "metadata": {
    "id": "QmvT1apZU9JI"
   },
   "outputs": [],
   "source": [
    "phase = qpe_mod15(a)\n",
    "Fraction(phase).limit_denominator(15)"
   ]
  },
  {
   "cell_type": "code",
   "execution_count": null,
   "metadata": {
    "id": "8FTdst10b_pj"
   },
   "outputs": [],
   "source": [
    "frac = Fraction(phase).limit_denominator(15)\n",
    "s, r = frac.numerator, frac.denominator\n",
    "print(\"r = %i\" %r)"
   ]
  },
  {
   "cell_type": "markdown",
   "metadata": {
    "id": "Ftf8TMS_b-kc"
   },
   "source": [
    "Now using r, we can find the two factors. We know that <br>\n",
    "\n",
    "   $$\n",
    "       a^{r}  mod  N = 1 \n",
    "   $$<br> \n",
    "then:\n",
    "\n",
    "<br>\n",
    "$$\n",
    "    a^{r} - 1 mod N = 0\n",
    "$$\n",
    "\n",
    "\n",
    "if r is even we can rewrite this as \n",
    "<br>\n",
    "$$\n",
    "    a^{r} - 1 = (a^{r/2} - 1)(a^{r/2} + 1)\n",
    "$$\n"
   ]
  },
  {
   "cell_type": "markdown",
   "metadata": {},
   "source": [
    "Then there is very good possibility that a GCD of $a^{r/2} - 1$ and N , is also a factor of N"
   ]
  },
  {
   "cell_type": "code",
   "execution_count": null,
   "metadata": {
    "id": "LI_17chfb-hy"
   },
   "outputs": [],
   "source": [
    "guesses = [gcd(a**(r//2) -1,N),gcd(a**(r//2)+1,N)]\n",
    "print(guesses)"
   ]
  },
  {
   "cell_type": "markdown",
   "metadata": {
    "id": "HOgXflZ1b-fc"
   },
   "source": [
    "### Final code"
   ]
  },
  {
   "cell_type": "code",
   "execution_count": null,
   "metadata": {
    "id": "i7JErv6Xcnkj"
   },
   "outputs": [],
   "source": [
    "a = 7\n",
    "factor_found = False\n",
    "attempt = 0\n",
    "\n",
    "while not factor_found:\n",
    "  attempt += 1\n",
    "  print(\"\\nAttempt %i: \"%attempt)\n",
    "  phase = qpe_mod15(a)\n",
    "  frac = Fraction(phase).limit_denominator(N)\n",
    "  r = frac.denominator\n",
    "  print(\"Result: r = %i\" % r)\n",
    "\n",
    "  if phase != 0:\n",
    "    guesses = [gcd(a**(r//2) -1,N),gcd(a**(r//2)+1,N)]\n",
    "    for guess in guesses:\n",
    "      if guess not in [1,N] and (N % guess) == 0:\n",
    "        print(\"Non trivial factor : %i\" % guess)\n",
    "        factor_found = True"
   ]
  },
  {
   "cell_type": "code",
   "execution_count": null,
   "metadata": {},
   "outputs": [],
   "source": []
  }
 ],
 "metadata": {
  "colab": {
   "collapsed_sections": [],
   "name": "Untitled6.ipynb",
   "provenance": []
  },
  "kernelspec": {
   "display_name": "Python 3 (ipykernel)",
   "language": "python",
   "name": "python3"
  },
  "language_info": {
   "codemirror_mode": {
    "name": "ipython",
    "version": 3
   },
   "file_extension": ".py",
   "mimetype": "text/x-python",
   "name": "python",
   "nbconvert_exporter": "python",
   "pygments_lexer": "ipython3",
   "version": "3.12.9"
  }
 },
 "nbformat": 4,
 "nbformat_minor": 4
}
